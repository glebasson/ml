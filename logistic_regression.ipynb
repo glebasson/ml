{
 "cells": [
  {
   "cell_type": "code",
   "execution_count": 32,
   "metadata": {},
   "outputs": [],
   "source": [
    "import numpy as np\n",
    "import matplotlib.pyplot as plt\n",
    "%matplotlib inline"
   ]
  },
  {
   "cell_type": "code",
   "execution_count": 33,
   "metadata": {},
   "outputs": [
    {
     "name": "stdout",
     "output_type": "stream",
     "text": [
      "fields are: hmgl\tblr\tclass\n",
      "\n"
     ]
    }
   ],
   "source": [
    "vector_list = []\n",
    "with open(\"haemolytic.txt\", \"r\") as f:\n",
    "    print(\"fields are: \" + f.readline())\n",
    "    for line in f:\n",
    "#         print(float(line.split()[0]))\n",
    "        vector_list.append(list(map(lambda x: float(x.replace(',', '.')), line.split())))"
   ]
  },
  {
   "cell_type": "code",
   "execution_count": 34,
   "metadata": {},
   "outputs": [],
   "source": [
    "data = np.stack(vector_list)\n"
   ]
  },
  {
   "cell_type": "code",
   "execution_count": 35,
   "metadata": {},
   "outputs": [
    {
     "data": {
      "text/plain": [
       "<matplotlib.collections.PathCollection at 0x7f58c8d31208>"
      ]
     },
     "execution_count": 35,
     "metadata": {},
     "output_type": "execute_result"
    },
    {
     "data": {
      "image/png": "[encoded data removed]",
      "text/plain": [
       "<Figure size 432x288 with 1 Axes>"
      ]
     },
     "metadata": {
      "needs_background": "light"
     },
     "output_type": "display_data"
    }
   ],
   "source": [
    "# show 1 label\n",
    "plt.scatter(data[data[:, 2] == 1 ][:, 0], data[data[:, 2] == 1 ][:, 1], marker=\".\")\n",
    "# show 2 label\n",
    "plt.scatter(data[data[:, 2] == 2 ][:, 0], data[data[:, 2] == 2 ][:, 1], marker=\"v\")"
   ]
  },
  {
   "cell_type": "code",
   "execution_count": 36,
   "metadata": {},
   "outputs": [],
   "source": [
    "from sklearn.linear_model import LogisticRegression"
   ]
  },
  {
   "cell_type": "code",
   "execution_count": 37,
   "metadata": {},
   "outputs": [],
   "source": [
    "clf = LogisticRegression(random_state=0).fit(data[:, :2], data[:, 2])"
   ]
  },
  {
   "cell_type": "code",
   "execution_count": 38,
   "metadata": {},
   "outputs": [
    {
     "data": {
      "text/plain": [
       "<matplotlib.collections.PathCollection at 0x7f58c8d0ccf8>"
      ]
     },
     "execution_count": 38,
     "metadata": {},
     "output_type": "execute_result"
    },
    {
     "data": {
      "image/png": "[encoded data removed]",
      "text/plain": [
       "<Figure size 432x288 with 1 Axes>"
      ]
     },
     "metadata": {
      "needs_background": "light"
     },
     "output_type": "display_data"
    }
   ],
   "source": [
    "# show predicted data\n",
    "p_c = clf.predict(data[:, :2])\n",
    "p_c = np.column_stack((p_c,p_c))\n",
    "p_data = np.hstack((data[:, :2], p_c))[:, :3]\n",
    "# show 1 label\n",
    "plt.scatter(p_data[p_data[:, 2] == 1 ][:, 0], p_data[p_data[:, 2] == 1 ][:, 1], marker=\".\")\n",
    "# show 2 label\n",
    "plt.scatter(p_data[p_data[:, 2] == 2 ][:, 0], p_data[p_data[:, 2] == 2 ][:, 1], marker=\"v\")"
   ]
  },
  {
   "cell_type": "code",
   "execution_count": 39,
   "metadata": {},
   "outputs": [
    {
     "data": {
      "text/plain": [
       "0.9240506329113924"
      ]
     },
     "execution_count": 39,
     "metadata": {},
     "output_type": "execute_result"
    }
   ],
   "source": [
    "# print accuracy\n",
    "clf.score(data[:, :2], data[:, 2])"
   ]
  },
  {
   "cell_type": "code",
   "execution_count": null,
   "metadata": {},
   "outputs": [],
   "source": []
  }
 ],
 "metadata": {
  "kernelspec": {
   "display_name": "Python 3",
   "language": "python",
   "name": "python3"
  },
  "language_info": {
   "codemirror_mode": {
    "name": "ipython",
    "version": 3
   },
   "file_extension": ".py",
   "mimetype": "text/x-python",
   "name": "python",
   "nbconvert_exporter": "python",
   "pygments_lexer": "ipython3",
   "version": "3.6.9"
  }
 },
 "nbformat": 4,
 "nbformat_minor": 2
}
